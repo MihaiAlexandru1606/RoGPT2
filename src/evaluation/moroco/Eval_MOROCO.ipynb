{
 "cells": [
  {
   "cell_type": "code",
   "execution_count": null,
   "metadata": {
    "collapsed": true
   },
   "outputs": [],
   "source": [
    "from pathlib import Path\n",
    "import json\n",
    "\n",
    "import tensorflow as tf\n",
    "import tensorflow_addons as tfa\n",
    "from tensorflow.keras.losses import BinaryCrossentropy, CategoricalCrossentropy\n",
    "from transformers import TFGPT2Model, GPT2Tokenizer\n",
    "\n",
    "from eval_utils.utils import BinaryF1Score"
   ]
  },
  {
   "cell_type": "markdown",
   "source": [
    "### Read dataset"
   ],
   "metadata": {
    "collapsed": false
   }
  },
  {
   "cell_type": "code",
   "execution_count": null,
   "outputs": [],
   "source": [
    "def get_dataset(path_dataset: str, path_tokenizer: str, block_size: int, name_label: str):\n",
    "    tokenizer = GPT2Tokenizer.from_pretrained(path_tokenizer)\n",
    "    inputs = []\n",
    "    labels = []\n",
    "\n",
    "    with open(path_dataset, 'r') as input_files:\n",
    "        data = json.load(input_files)\n",
    "\n",
    "    for k, v in data.items():\n",
    "        tokens = tokenizer.encode(v['text'])\n",
    "        label = int(v[name_label]) - 1\n",
    "        label = tf.keras.utils.to_categorical(label, num_classes=6) if name_label == 'category' else label\n",
    "\n",
    "        inputs.append(tokens)\n",
    "        labels.append(label)\n",
    "\n",
    "    inputs = tf.keras.preprocessing.sequence.pad_sequences(inputs, padding='post', truncating='post', maxlen=block_size)\n",
    "\n",
    "    return tf.data.Dataset.from_tensor_slices((inputs, labels))"
   ],
   "metadata": {
    "collapsed": false,
    "pycharm": {
     "name": "#%%\n"
    }
   }
  },
  {
   "cell_type": "markdown",
   "source": [
    "### Eval trained model"
   ],
   "metadata": {
    "collapsed": false
   }
  },
  {
   "cell_type": "code",
   "execution_count": null,
   "outputs": [],
   "source": [
    "def eval_dialect(path_model: str, path_log: str, block_size: int) -> None:\n",
    "    name_model = path_model.split('/')[-1].replace('.h5', '')\n",
    "    batch_size = 31\n",
    "    model = tf.keras.models.load_model(path_model)\n",
    "    model.compile(\n",
    "        loss=BinaryCrossentropy(),\n",
    "        metrics=[BinaryF1Score()]\n",
    "    )\n",
    "    path_dataset = '../../../dataset/moroco/json/'\n",
    "    path_tokenizer = '../../../model/tokenizer'\n",
    "\n",
    "    ds_dev = get_dataset(f'{path_dataset}/dev/merge_all.json', path_tokenizer, block_size, 'dialect').shuffle(10000) \\\n",
    "        .batch(batch_size, drop_remainder=True)\n",
    "    ds_test = get_dataset(f'{path_dataset}/test/merge_all.json', path_tokenizer, block_size, 'dialect').shuffle(10000) \\\n",
    "        .batch(batch_size, drop_remainder=True)\n",
    "\n",
    "    Path(path_log).mkdir(parents=True, exist_ok=True)\n",
    "\n",
    "    _, f1_score_dev = model.evaluate(ds_dev)\n",
    "    _, f1_score_test = model.evaluate(ds_test)\n",
    "\n",
    "    with open(f'{path_log}{path_model.split(\"/\")[-1].replace(\".h5\", \"\")}.txt', 'w+') as output_file:\n",
    "        output_file.write(f'F1 Score for Dev: {f1_score_dev}\\n')\n",
    "        output_file.write(f'F1 Score for Test: {f1_score_test}\\n')\n",
    "\n",
    "    print(f'\\nFor model: {name_model}')\n",
    "    print(f'F1 Score for Dev: {f1_score_dev}')\n",
    "    print(f'F1 Score for Test: {f1_score_test}\\n')\n",
    "\n",
    "    del model\n",
    "    del ds_dev, ds_test\n",
    "\n",
    "\n",
    "def eval_cross_language(path_model: str, path_log: str, block_size: int) -> None:\n",
    "    name_model = path_model.split('/')[-1].replace('.h5', '')\n",
    "    model = tf.keras.models.load_model(path_model)\n",
    "    model.compile(\n",
    "        loss=CategoricalCrossentropy(),\n",
    "        metrics=[tfa.metrics.F1Score(num_classes=6, average='macro')]\n",
    "    )\n",
    "\n",
    "    path_dataset = '../../../dataset/moroco/json/'\n",
    "    path_tokenizer = '../../../model/tokenizer'\n",
    "\n",
    "    ds_dev_ro = get_dataset(f'{path_dataset}/dev/romanian.json', path_tokenizer, block_size, 'category').shuffle(10000) \\\n",
    "        .batch(1, drop_remainder=True)\n",
    "    ds_test_ro = get_dataset(f'{path_dataset}/test/romanian.json', path_tokenizer, block_size, 'category'). \\\n",
    "        shuffle(10000).batch(1, drop_remainder=True)\n",
    "    ds_dev_md = get_dataset(f'{path_dataset}/dev/moldavian.json', path_tokenizer, block_size, 'category').shuffle(10000) \\\n",
    "        .batch(1, drop_remainder=True)\n",
    "    ds_test_md = get_dataset(f'{path_dataset}/test/moldavian.json', path_tokenizer, block_size, 'category').\\\n",
    "        shuffle(10000).batch(1, drop_remainder=True)\n",
    "\n",
    "    _, f1_score_dev_ro = model.evaluate(ds_dev_ro)\n",
    "    _, f1_score_test_ro = model.evaluate(ds_test_ro)\n",
    "    _, f1_score_dev_md = model.evaluate(ds_dev_md)\n",
    "    _, f1_score_test_md = model.evaluate(ds_test_md)\n",
    "\n",
    "    Path(path_log).mkdir(parents=True, exist_ok=True)\n",
    "    with open(f'{path_log}{path_model.split(\"/\")[-1].replace(\".h5\", \"\")}.txt', 'w+') as output_file:\n",
    "        output_file.write(f'F1 Score for Dev Ro: {f1_score_dev_ro}\\n')\n",
    "        output_file.write(f'F1 Score for Test Ro: {f1_score_test_ro}\\n')\n",
    "        output_file.write(f'F1 Score for Dev Md: {f1_score_dev_md}\\n')\n",
    "        output_file.write(f'F1 Score for Test Md: {f1_score_test_md}\\n')\n",
    "\n",
    "    print(f'\\nFor model: {name_model}')\n",
    "    print(f'F1 Score for Dev Ro: {f1_score_dev_ro}')\n",
    "    print(f'F1 Score for Test Ro: {f1_score_test_ro}')\n",
    "    print(f'F1 Score for Dev Md: {f1_score_dev_md}')\n",
    "    print(f'F1 Score for Test Md: {f1_score_test_md}\\n')\n",
    "\n",
    "    del model\n",
    "    del ds_dev_ro, ds_test_ro\n",
    "    del ds_dev_md, ds_test_md"
   ],
   "metadata": {
    "collapsed": false,
    "pycharm": {
     "name": "#%%\n"
    }
   }
  },
  {
   "cell_type": "markdown",
   "source": [
    "## Run evaluation"
   ],
   "metadata": {
    "collapsed": false
   }
  },
  {
   "cell_type": "code",
   "execution_count": null,
   "outputs": [],
   "source": [
    "block_size = 275\n",
    "path_model = '../../../model/evaluation/moroco'\n",
    "path_log = '../../../log/moroco'"
   ],
   "metadata": {
    "collapsed": false,
    "pycharm": {
     "name": "#%%\n"
    }
   }
  },
  {
   "cell_type": "markdown",
   "source": [
    "### Base"
   ],
   "metadata": {
    "collapsed": false
   }
  },
  {
   "cell_type": "code",
   "execution_count": null,
   "outputs": [],
   "source": [
    "version = 'base'"
   ],
   "metadata": {
    "collapsed": false,
    "pycharm": {
     "name": "#%%\n"
    }
   }
  },
  {
   "cell_type": "code",
   "execution_count": null,
   "outputs": [],
   "source": [
    "eval_dialect(f'{path_model}/{version}/{version}-dialect.h5', f'{path_log}/{version}/', block_size)"
   ],
   "metadata": {
    "collapsed": false,
    "pycharm": {
     "name": "#%%\n"
    }
   }
  },
  {
   "cell_type": "code",
   "execution_count": null,
   "outputs": [],
   "source": [
    "eval_cross_language(f'{path_model}/{version}/{version}-ro.h5', f'{path_log}/{version}/', block_size)"
   ],
   "metadata": {
    "collapsed": false,
    "pycharm": {
     "name": "#%%\n"
    }
   }
  },
  {
   "cell_type": "code",
   "execution_count": null,
   "outputs": [],
   "source": [
    "eval_cross_language(f'{path_model}/{version}/{version}-md.h5', f'{path_log}/{version}/', block_size)"
   ],
   "metadata": {
    "collapsed": false,
    "pycharm": {
     "name": "#%%\n"
    }
   }
  },
  {
   "cell_type": "markdown",
   "source": [
    "### Medium"
   ],
   "metadata": {
    "collapsed": false
   }
  },
  {
   "cell_type": "code",
   "execution_count": null,
   "outputs": [],
   "source": [
    "version = 'medium'"
   ],
   "metadata": {
    "collapsed": false,
    "pycharm": {
     "name": "#%%\n"
    }
   }
  },
  {
   "cell_type": "code",
   "execution_count": null,
   "outputs": [],
   "source": [
    "eval_dialect(f'{path_model}/{version}/{version}-dialect.h5', f'{path_log}/{version}/', block_size)"
   ],
   "metadata": {
    "collapsed": false,
    "pycharm": {
     "name": "#%%\n"
    }
   }
  },
  {
   "cell_type": "code",
   "execution_count": null,
   "outputs": [],
   "source": [
    "eval_cross_language(f'{path_model}/{version}/{version}-ro.h5', f'{path_log}/{version}/', block_size)"
   ],
   "metadata": {
    "collapsed": false,
    "pycharm": {
     "name": "#%%\n"
    }
   }
  },
  {
   "cell_type": "code",
   "execution_count": null,
   "outputs": [],
   "source": [
    "eval_cross_language(f'{path_model}/{version}/{version}-md.h5', f'{path_log}/{version}/', block_size)"
   ],
   "metadata": {
    "collapsed": false,
    "pycharm": {
     "name": "#%%\n"
    }
   }
  },
  {
   "cell_type": "markdown",
   "source": [
    "### Large"
   ],
   "metadata": {
    "collapsed": false
   }
  },
  {
   "cell_type": "code",
   "execution_count": null,
   "outputs": [],
   "source": [
    "version = 'large'"
   ],
   "metadata": {
    "collapsed": false,
    "pycharm": {
     "name": "#%%\n"
    }
   }
  },
  {
   "cell_type": "code",
   "execution_count": null,
   "outputs": [],
   "source": [
    "eval_dialect(f'{path_model}/{version}/{version}-dialect.h5', f'{path_log}/{version}/', block_size)"
   ],
   "metadata": {
    "collapsed": false,
    "pycharm": {
     "name": "#%%\n"
    }
   }
  },
  {
   "cell_type": "code",
   "execution_count": null,
   "outputs": [],
   "source": [
    "eval_cross_language(f'{path_model}/{version}/{version}-ro.h5', f'{path_log}/{version}/', block_size)"
   ],
   "metadata": {
    "collapsed": false,
    "pycharm": {
     "name": "#%%\n"
    }
   }
  },
  {
   "cell_type": "code",
   "execution_count": null,
   "outputs": [],
   "source": [
    "eval_cross_language(f'{path_model}/{version}/{version}-md.h5', f'{path_log}/{version}/', block_size)"
   ],
   "metadata": {
    "collapsed": false,
    "pycharm": {
     "name": "#%%\n"
    }
   }
  }
 ],
 "metadata": {
  "kernelspec": {
   "display_name": "Python 3",
   "language": "python",
   "name": "python3"
  },
  "language_info": {
   "codemirror_mode": {
    "name": "ipython",
    "version": 2
   },
   "file_extension": ".py",
   "mimetype": "text/x-python",
   "name": "python",
   "nbconvert_exporter": "python",
   "pygments_lexer": "ipython2",
   "version": "2.7.6"
  }
 },
 "nbformat": 4,
 "nbformat_minor": 0
}