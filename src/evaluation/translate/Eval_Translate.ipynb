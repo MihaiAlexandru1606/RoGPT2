{
 "cells": [
  {
   "cell_type": "code",
   "execution_count": 4,
   "metadata": {
    "collapsed": true
   },
   "outputs": [],
   "source": [
    "import json\n",
    "from pathlib import Path\n",
    "\n",
    "from sacrebleu import corpus_bleu"
   ]
  },
  {
   "cell_type": "markdown",
   "source": [
    "### Evaluation"
   ],
   "metadata": {
    "collapsed": false
   }
  },
  {
   "cell_type": "code",
   "execution_count": 5,
   "outputs": [],
   "source": [
    "def evaluate() -> None:\n",
    "    modes = ['ro-en', 'en-ro']\n",
    "    versions = ['base', 'medium', 'large']\n",
    "\n",
    "    for log_dir in [str(x) for x in Path(f'../../../generate/translate').glob('*') if x.is_dir()]:\n",
    "        trained_version = log_dir.split('/')[-1]\n",
    "        print(f'Trained version {trained_version}\\n')\n",
    "\n",
    "        for mode in modes:\n",
    "            for version in versions:\n",
    "                result = {}\n",
    "\n",
    "                for path_log in [str(x) for x in Path(f'{log_dir}/{mode}/{version}').glob(\"**/*.json\")]:\n",
    "\n",
    "                    hyp = []\n",
    "                    refs = []\n",
    "                    name_eval = path_log.split('/')[-1].replace('.json', '')\n",
    "\n",
    "                    with open(path_log, 'r') as input_file:\n",
    "                        data = json.load(input_file)\n",
    "\n",
    "                    for example in data:\n",
    "                        refs.append(example['original'])\n",
    "                        hyp.append(\n",
    "                            example['predict'].replace('Romanian:', '').replace('English:', ''))  # remove artefact\n",
    "\n",
    "                    refs = [refs]\n",
    "                    bleu_score = corpus_bleu(hyp, refs)\n",
    "                    result[name_eval] = bleu_score\n",
    "                    print(f'Eval: {name_eval} Bleu: {bleu_score.score}')\n",
    "\n",
    "                Path(f'../../../log/translate/{trained_version}').mkdir(parents=True, exist_ok=True)\n",
    "                with open(f'../../../log/translate/{trained_version}/{version}-{mode}.txt', 'w+') as output_file:\n",
    "                    for k, v in result.items():\n",
    "                        output_file.write(f'{k}: {v}\\n')\n",
    "\n",
    "        print('\\n\\n')"
   ],
   "metadata": {
    "collapsed": false,
    "pycharm": {
     "name": "#%%\n"
    }
   }
  },
  {
   "cell_type": "markdown",
   "source": [
    "### Run evaluation"
   ],
   "metadata": {
    "collapsed": false
   }
  },
  {
   "cell_type": "code",
   "execution_count": 6,
   "outputs": [
    {
     "name": "stdout",
     "output_type": "stream",
     "text": [
      "Trained version v1\n",
      "\n",
      "Eval: base-beam-search-4-ro-en Bleu: 31.260847205131878\n",
      "Eval: base-top-7-ro-en Bleu: 30.36567880295048\n",
      "Eval: base-beam-search-8-ro-en Bleu: 31.386911978835382\n",
      "Eval: base-greedy-ro-en Bleu: 30.36567880295048\n",
      "Eval: medium-top-7-ro-en Bleu: 32.483383293661205\n",
      "Eval: medium-beam-search-3-ro-en Bleu: 34.07760950302437\n",
      "Eval: medium-beam-search-8-ro-en Bleu: 34.15754674349059\n",
      "Eval: medium-greedy-ro-en Bleu: 32.483383293661205\n",
      "Eval: large-top-7-ro-en Bleu: 33.68933498954746\n",
      "Eval: large-beam-search-8-ro-en Bleu: 34.51390382816909\n",
      "Eval: large-greedy-ro-en Bleu: 33.68933498954746\n",
      "Eval: large-beam-search-3-ro-en Bleu: 34.40206883488614\n",
      "Eval: base-top-7-en-ro Bleu: 20.271535578517526\n",
      "Eval: base-greedy-en-ro Bleu: 20.271535578517526\n",
      "Eval: base-beam-search-8-en-ro Bleu: 22.95088084617368\n",
      "Eval: base-beam-search-4-en-ro Bleu: 22.308151691418963\n",
      "Eval: medium-greedy-en-ro Bleu: 22.18266493979053\n",
      "Eval: medium-beam-search-4-en-ro Bleu: 24.025631506972175\n",
      "Eval: medium-top-7-en-ro Bleu: 22.18266493979053\n",
      "Eval: medium-beam-search-8-en-ro Bleu: 24.12737626487635\n",
      "Eval: large-beam-search-8-en-ro Bleu: 24.316858151851246\n",
      "Eval: large-greedy-en-ro Bleu: 23.308583697427434\n",
      "Eval: large-top-7-en-ro Bleu: 23.308583697427434\n",
      "Eval: large-beam-search-4-en-ro Bleu: 24.23119294210915\n",
      "\n",
      "\n",
      "\n",
      "Trained version v2\n",
      "\n",
      "Eval: base-beam-search-4-ro-en Bleu: 32.815337599712855\n",
      "Eval: base-top-7-ro-en Bleu: 32.00282607442846\n",
      "Eval: base-beam-search-8-ro-en Bleu: 32.79382554846905\n",
      "Eval: base-greedy-ro-en Bleu: 32.00282607442846\n",
      "Eval: medium-top-7-ro-en Bleu: 31.44899967519782\n",
      "Eval: medium-beam-search-8-ro-en Bleu: 32.8674183202471\n",
      "Eval: medium-beam-search-4-ro-en Bleu: 32.89134559205149\n",
      "Eval: medium-greedy-ro-en Bleu: 31.44899967519782\n",
      "Eval: large-top-7-ro-en Bleu: 32.92956699383686\n",
      "Eval: large-beam-search-4-ro-en Bleu: 33.83198778866142\n",
      "Eval: large-beam-search-8-ro-en Bleu: 33.880894093192516\n",
      "Eval: large-greedy-ro-en Bleu: 32.92956699383686\n",
      "Eval: base-top-7-en-ro Bleu: 22.313858302351015\n",
      "Eval: base-greedy-en-ro Bleu: 22.313858302351015\n",
      "Eval: base-beam-search-8-en-ro Bleu: 23.475460539392238\n",
      "Eval: base-beam-search-4-en-ro Bleu: 23.32137980128164\n",
      "Eval: medium-greedy-en-ro Bleu: 21.91757147617502\n",
      "Eval: medium-beam-search-4-en-ro Bleu: 24.103212198600055\n",
      "Eval: medium-top-7-en-ro Bleu: 21.91757147617502\n",
      "Eval: medium-beam-search-8-en-ro Bleu: 24.23543331739637\n",
      "Eval: large-beam-search-8-en-ro Bleu: 24.256696656525687\n",
      "Eval: large-greedy-en-ro Bleu: 23.257060601555605\n",
      "Eval: large-top-7-en-ro Bleu: 23.257060601555605\n",
      "Eval: large-beam-search-4-en-ro Bleu: 24.22141001080419\n",
      "\n",
      "\n",
      "\n"
     ]
    }
   ],
   "source": [
    "evaluate()"
   ],
   "metadata": {
    "collapsed": false,
    "pycharm": {
     "name": "#%%\n"
    }
   }
  }
 ],
 "metadata": {
  "kernelspec": {
   "display_name": "Python 3",
   "language": "python",
   "name": "python3"
  },
  "language_info": {
   "codemirror_mode": {
    "name": "ipython",
    "version": 2
   },
   "file_extension": ".py",
   "mimetype": "text/x-python",
   "name": "python",
   "nbconvert_exporter": "python",
   "pygments_lexer": "ipython2",
   "version": "2.7.6"
  }
 },
 "nbformat": 4,
 "nbformat_minor": 0
}