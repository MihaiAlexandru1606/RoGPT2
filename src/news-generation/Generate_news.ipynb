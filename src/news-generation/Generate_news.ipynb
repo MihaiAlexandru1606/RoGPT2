{
 "cells": [
  {
   "cell_type": "code",
   "execution_count": 1,
   "metadata": {
    "collapsed": true
   },
   "outputs": [
    {
     "name": "stderr",
     "output_type": "stream",
     "text": [
      "2021-07-18 18:24:49.641478: I tensorflow/stream_executor/platform/default/dso_loader.cc:49] Successfully opened dynamic library libcudart.so.11.0\n"
     ]
    }
   ],
   "source": [
    "import os\n",
    "import json\n",
    "from pathlib import Path\n",
    "\n",
    "from transformers import TFGPT2LMHeadModel, GPT2Tokenizer"
   ]
  },
  {
   "cell_type": "markdown",
   "source": [
    "## Generate text of news"
   ],
   "metadata": {
    "collapsed": false
   }
  },
  {
   "cell_type": "code",
   "execution_count": 2,
   "outputs": [],
   "source": [
    "def generate_paragraph(path_model: str, path_tokenizer: str, index_news: int, path_log: str) -> None:\n",
    "    path_dataset_test = '../../dataset/digi24/split/test.json'\n",
    "    tokenizer = GPT2Tokenizer.from_pretrained(path_tokenizer)\n",
    "    model = TFGPT2LMHeadModel.from_pretrained(path_model)\n",
    "\n",
    "    with open(path_dataset_test, 'r') as input_file:\n",
    "        data = json.load(input_file)\n",
    "\n",
    "    if index_news > len(data) - 1:\n",
    "        print(f'Error, max index is: {len(data) - 1}')\n",
    "        return\n",
    "\n",
    "    example = data[index_news]\n",
    "    title = example['title']\n",
    "    text = ' '.join(example['text'][:-1])\n",
    "    original_text = example['text'][-1]\n",
    "    inputs_text = f'Text: {title} {text} Continuation:'\n",
    "\n",
    "    tokens_input = tokenizer.encode(inputs_text, return_tensors='tf')\n",
    "    tokens_predict = model.generate(tokens_input, max_length=1024, no_repeat_ngram_size=2)[0][len(tokens_input[0]):]\n",
    "    predict_text = tokenizer.decode(tokens_predict)\n",
    "\n",
    "    Path(os.path.dirname(path_log)).mkdir(parents=True, exist_ok=True)\n",
    "    with open(path_log, 'w+') as output_file:\n",
    "        output_file.write(f\"Input:\\t{inputs_text}\\n\")\n",
    "        output_file.write(f\"Predict:\\t{predict_text}\\n\")\n",
    "        output_file.write(f\"Original:\\t{original_text}\\n\")\n",
    "\n",
    "    print(f\"Input:\\t{inputs_text}\\n\")\n",
    "    print(f\"Predict:\\t{predict_text}\\n\")\n",
    "    print(f\"Original:\\t{original_text}\\n\")"
   ],
   "metadata": {
    "collapsed": false,
    "pycharm": {
     "name": "#%%\n"
    }
   }
  },
  {
   "cell_type": "markdown",
   "source": [
    "Examples"
   ],
   "metadata": {
    "collapsed": false
   }
  },
  {
   "cell_type": "code",
   "execution_count": 4,
   "outputs": [
    {
     "name": "stderr",
     "output_type": "stream",
     "text": [
      "All model checkpoint layers were used when initializing TFGPT2LMHeadModel.\n",
      "\n",
      "All the layers of TFGPT2LMHeadModel were initialized from the model checkpoint at ../../model/news/paragraph/large.\n",
      "If your task is similar to the task the model of the checkpoint was trained on, you can already use TFGPT2LMHeadModel for predictions without further training.\n",
      "Setting `pad_token_id` to 0 (first `eos_token_id`) to generate sequence\n"
     ]
    },
    {
     "name": "stdout",
     "output_type": "stream",
     "text": [
      "Input:\tText: Victor Ponta: Traian Băsescu se joacă cu prestigiul României Sunt acţiuni total nepotrivite în acest context, spune şeful statului. \"Este o minciună electorală\", a fost replica premierului. De asemenea, Traian Băsescu îl acuză pe Victor Ponta că nu a avut niciun fel de reacţie în faţa abuzurilor Rusiei la adresa Ucrainei. Traian Băsescu respinge declaraţia ministrului de Externe, Titus Corlăţean, care a spus că şi preşedintele ar pregăti o întâlnire cu Vladimir Putin. Şeful statului susţine că o întâlnire cu Vladimir Putin nu este oportună, atâta vreme cât la nivelul statelor Uniunii Europene s-a luat o decizie în acest sens. „Este luată o decizie să nu mai existe discuţii politice la nivel înalt şi la cel mai înalt nivel. Ar fi nepotrivită. Sper să nu se materializeze, măcar şi din motive de oportunitate”, a afirmat Traian Băsescu. Premierul Victor Ponta a infirmat, în cadrul unei emisiuni televizate, că ar avea vreo intenţie să îi facă o vizită liderului de la Kremlin şi a catalogat acuzaţiile aduse de şeful statului ca fiind parte din propaganda electorală. „Nu, este doar o minciună, este o inconștienţă la adresa intereselor României. Odată cu sancţiunile impuse de UE, toate statele au întrerupt relaţiile şi întâlnirile cu Rusia. Sper că nimeni nu îl ia în serios pe Traian Băsescu, când, în scopuri pur electorale, se joacă cu prestigiul României”, a spus premierul. Traian Băsescu neagă faptul că ar fi făcut el însuşi demersuri pentru o vizită oficială în Federaţia Rusă. Continuation:\n",
      "\n",
      "Predict:\t „Eu nu am făcut niciun demers pentru a vizita Federaţia rusă. Nu am fost invitat de nimeni. Nici de preşedintele Putin, nici de altcineva. Eu nu merg în Rusia decât pentru că sunt preşedintele României şi pentru parteneriatul strategic cu SUA. Federaţia Rusa nu are nicio treabă cu România”, spune Traian Basescu. <|endoftext|>\n",
      "\n",
      "Original:\t\"Nu am făcut nicio solicitare pentru întâlnire cu Putin, iar Corlăţean ştie bine asta, pentru că vizitele preşedintelui se stabilesc prin Ministerul de Externe\", a spus preşedintele.\n",
      "\n"
     ]
    }
   ],
   "source": [
    "generate_paragraph('../../model/news/paragraph/large', '../../model/tokenizer', 1150, '../../log/news/1150.txt')"
   ],
   "metadata": {
    "collapsed": false,
    "pycharm": {
     "name": "#%%\n"
    }
   }
  },
  {
   "cell_type": "code",
   "execution_count": 5,
   "outputs": [
    {
     "name": "stderr",
     "output_type": "stream",
     "text": [
      "All model checkpoint layers were used when initializing TFGPT2LMHeadModel.\n",
      "\n",
      "All the layers of TFGPT2LMHeadModel were initialized from the model checkpoint at ../../model/news/paragraph/large.\n",
      "If your task is similar to the task the model of the checkpoint was trained on, you can already use TFGPT2LMHeadModel for predictions without further training.\n",
      "Setting `pad_token_id` to 0 (first `eos_token_id`) to generate sequence\n"
     ]
    },
    {
     "name": "stdout",
     "output_type": "stream",
     "text": [
      "Input:\tText: Poliția Română: 12 tone de articole pirotehnice au fost ridicate în urma perchezițiilor de dimineață din Prahova Foto: Agerpres „La data de 24 decembrie a.c., polițiștii Inspectoratului de Poliție Județean Prahova au desfășurat 8 percheziţii domiciliare și la sediul unei societăți comerciale, în județul Prahova. Din cercetări, a reieșit că reprezentanții unei societăți comerciale, cu sediul social în Târgșoru Vechi, ar fi importat legal articole pirotehnice din Bulgaria, pe care le-ar fi depozitat într-un spațiu neautorizat. Ulterior, aceste produse ar fi fost comercializate unor persoane fizice neautorizate din municipiul București și județele Prahova, Brăila, Ilfov și Iași. Actele de comerț nu ar fi fost evidențiate în contabilitate, reprezentanții firmei sustrăgându-se, în acest mod, de la plata impozitelor și taxelor datorate bugetului statului. În urma perchezițiilor, au fost ridicate în vederea continuării cercetărilor 12 tone de articole pirotehnice, din categoriile II-IV, precum și 57.800 de lei. De asemenea, au fost conduse la sediul poliției 7 persoane, pentru audieri și dispunerea măsurilor legale. Polițiștii continuă cercetările sub aspectul săvârşirii infracţiunilor de efectuarea fără drept de operaţiuni cu articole pirotehnice, comercializarea către publicul larg a articolelor pirotehnice destinate a fi utilizate de pirotehnicieni și evaziune fiscală. Continuation:\n",
      "\n",
      "Predict:\t Activitățile se desfășoară sub coordonarea Parchetului de pe lângă Judecătoria Ploiești”, se arată întrun comunicat al Poliției Române. <|endoftext|>\n",
      "\n",
      "Original:\tActivităţile au beneficiat de suportul de specialitate al Direcției Operațiuni Speciale din cadrul Poliției Române. La acțiune au participat și jandarmi”, se arată în comunicatul Poliției Române.\n",
      "\n"
     ]
    }
   ],
   "source": [
    "generate_paragraph('../../model/news/paragraph/large', '../../model/tokenizer', 231, '../../log/news/231.txt')"
   ],
   "metadata": {
    "collapsed": false,
    "pycharm": {
     "name": "#%%\n"
    }
   }
  },
  {
   "cell_type": "code",
   "execution_count": 6,
   "outputs": [
    {
     "name": "stderr",
     "output_type": "stream",
     "text": [
      "All model checkpoint layers were used when initializing TFGPT2LMHeadModel.\n",
      "\n",
      "All the layers of TFGPT2LMHeadModel were initialized from the model checkpoint at ../../model/news/paragraph/large.\n",
      "If your task is similar to the task the model of the checkpoint was trained on, you can already use TFGPT2LMHeadModel for predictions without further training.\n",
      "Setting `pad_token_id` to 0 (first `eos_token_id`) to generate sequence\n"
     ]
    },
    {
     "name": "stdout",
     "output_type": "stream",
     "text": [
      "Input:\tText: Adrian Năstase ia în calcul renunţarea la cetăţenia română „Am discutat în familie aceste aspecte, se pare că ar fi o ultimă soluţie de a renunţa la cetăţenia română. Considerăm că asta s-a urmărit prin acea pedeapsă complementară, eliminarea lui din viaţa politică. Cred că i-am urma exemplul, eu şi fratele meu”, a spus Andrei Năstase. Continuation:\n",
      "\n",
      "Predict:\t „În momentul în care voi avea o decizie definitivă, voi face demersurile legale pentru a solicita cetăţenia. Nu am renunţat la cetăţenie, nu renunţ la nimic. Consider că este o chestiune de principiu, o problemă de moralitate. Am fost condamnat pentru o faptă de corupţie, iar acest lucru nu mă împiedică să îmi exercit drepturile cetăţeneşti. Dacă voi fi declarat incompatibil, îmi voi pierde mandatul de parlamentar”, este opinia lui Andrei Nastase. <|endoftext|>\n",
      "\n",
      "Original:\tVorbind despre tatăl său, Andrei Năstase l-a descris ca fiind drept „un om care şi-a dedicat viaţa pentru ţara lui punând în planul doi familia, prietenii, viaţa personală şi pe primul loc ţara”.\n",
      "\n"
     ]
    }
   ],
   "source": [
    "generate_paragraph('../../model/news/paragraph/large', '../../model/tokenizer', 444, '../../log/news/444.txt')"
   ],
   "metadata": {
    "collapsed": false,
    "pycharm": {
     "name": "#%%\n"
    }
   }
  }
 ],
 "metadata": {
  "kernelspec": {
   "display_name": "Python 3",
   "language": "python",
   "name": "python3"
  },
  "language_info": {
   "codemirror_mode": {
    "name": "ipython",
    "version": 2
   },
   "file_extension": ".py",
   "mimetype": "text/x-python",
   "name": "python",
   "nbconvert_exporter": "python",
   "pygments_lexer": "ipython2",
   "version": "2.7.6"
  }
 },
 "nbformat": 4,
 "nbformat_minor": 0
}