{
 "cells": [
  {
   "cell_type": "code",
   "execution_count": 1,
   "metadata": {
    "collapsed": true
   },
   "outputs": [
    {
     "name": "stderr",
     "output_type": "stream",
     "text": [
      "2021-07-20 12:25:17.989330: I tensorflow/stream_executor/platform/default/dso_loader.cc:49] Successfully opened dynamic library libcudart.so.11.0\n"
     ]
    }
   ],
   "source": [
    "import os\n",
    "import json\n",
    "from pathlib import Path\n",
    "\n",
    "from sacrebleu import sentence_bleu\n",
    "from transformers import TFGPT2LMHeadModel, GPT2Tokenizer"
   ]
  },
  {
   "cell_type": "markdown",
   "source": [
    "## Continuation generation"
   ],
   "metadata": {
    "collapsed": false
   }
  },
  {
   "cell_type": "code",
   "execution_count": 3,
   "outputs": [],
   "source": [
    "def generate_paragraph(path_model: str, path_tokenizer: str, index_news: int, path_log: str) -> None:\n",
    "    path_dataset_test = '../../dataset/digi24/split/test.json'\n",
    "    tokenizer = GPT2Tokenizer.from_pretrained(path_tokenizer)\n",
    "    model = TFGPT2LMHeadModel.from_pretrained(path_model)\n",
    "\n",
    "    with open(path_dataset_test, 'r') as input_file:\n",
    "        data = json.load(input_file)\n",
    "\n",
    "    if index_news > len(data) - 1:\n",
    "        print(f'Error, max index is: {len(data) - 1}')\n",
    "        return\n",
    "\n",
    "    example = data[index_news]\n",
    "    title = example['title']\n",
    "    text = ' '.join(example['text'][:-1])\n",
    "    original_text = example['text'][-1]\n",
    "    inputs_text = f'Text: {title} {text} Continuation:'\n",
    "\n",
    "    tokens_input = tokenizer.encode(inputs_text, return_tensors='tf')\n",
    "    tokens_predict = model.generate(tokens_input, max_length=1024, no_repeat_ngram_size=2)[0][len(tokens_input[0]):]\n",
    "    predict_text = tokenizer.decode(tokens_predict).replace('<|endoftext|>', '')\n",
    "\n",
    "    Path(os.path.dirname(path_log)).mkdir(parents=True, exist_ok=True)\n",
    "    with open(path_log, 'w+') as output_file:\n",
    "        output_file.write(f\"Input:\\t{inputs_text}\\n\")\n",
    "        output_file.write(f\"Predict:\\t{predict_text}\\n\")\n",
    "        output_file.write(f\"Original:\\t{original_text}\\n\")\n",
    "\n",
    "    print(f\"Input:\\t{inputs_text}\\n\")\n",
    "    print(f\"Predict:\\t{predict_text}\\n\")\n",
    "    print(f\"Original:\\t{original_text}\\n\")\n",
    "\n",
    "    bleu = sentence_bleu(predict_text, [original_text]).score\n",
    "    print(f'Bleu score: {bleu}\\n')"
   ],
   "metadata": {
    "collapsed": false,
    "pycharm": {
     "name": "#%%\n"
    }
   }
  },
  {
   "cell_type": "markdown",
   "source": [
    "## Title generation"
   ],
   "metadata": {
    "collapsed": false
   }
  },
  {
   "cell_type": "code",
   "execution_count": 5,
   "outputs": [],
   "source": [
    "def generate_title(path_model: str, path_tokenizer: str, index_news: int, path_log: str) -> None:\n",
    "    path_dataset_test = '../../dataset/digi24/split/test.json'\n",
    "    tokenizer = GPT2Tokenizer.from_pretrained(path_tokenizer)\n",
    "    model = TFGPT2LMHeadModel.from_pretrained(path_model)\n",
    "\n",
    "    with open(path_dataset_test, 'r') as input_file:\n",
    "        data = json.load(input_file)\n",
    "\n",
    "    example = data[index_news]\n",
    "    original_title = example['title']\n",
    "    text = ' '.join(example['text'])\n",
    "\n",
    "    inputs_text = f'Text: {text} Title: '\n",
    "    inputs_token = tokenizer.encode(inputs_text, return_tensors='tf')\n",
    "    text_predict = model.generate(inputs_token, max_length=1024, no_repeat_ngram_size=2)[0][len(inputs_token[0]):]\n",
    "    predict_text = tokenizer.decode(text_predict).replace('<|endoftext|>', '')\n",
    "\n",
    "\n",
    "    Path(os.path.dirname(path_log)).mkdir(parents=True, exist_ok=True)\n",
    "    with open(path_log, 'w+') as output_file:\n",
    "        output_file.write(f\"Input:\\t{inputs_text}\\n\")\n",
    "        output_file.write(f\"Predict:\\t{predict_text}\\n\")\n",
    "        output_file.write(f\"Original:\\t{original_title}\\n\")\n",
    "\n",
    "    print(f\"Input:\\t{inputs_text}\\n\")\n",
    "    print(f\"Predict:\\t{predict_text}\\n\")\n",
    "    print(f\"Original:\\t{original_title}\\n\")\n",
    "\n",
    "    bleu = sentence_bleu(predict_text, [original_title]).score\n",
    "    print(f'Bleu score: {bleu}\\n')"
   ],
   "metadata": {
    "collapsed": false,
    "pycharm": {
     "name": "#%%\n"
    }
   }
  },
  {
   "cell_type": "markdown",
   "source": [
    "Example"
   ],
   "metadata": {
    "collapsed": false
   }
  },
  {
   "cell_type": "code",
   "source": [
    "index_news = 6788"
   ],
   "metadata": {
    "collapsed": false,
    "pycharm": {
     "name": "#%%\n"
    }
   },
   "execution_count": 7,
   "outputs": []
  },
  {
   "cell_type": "markdown",
   "source": [
    "## Continuation generation"
   ],
   "metadata": {
    "collapsed": false
   }
  },
  {
   "cell_type": "code",
   "execution_count": 8,
   "outputs": [
    {
     "name": "stderr",
     "output_type": "stream",
     "text": [
      "2021-07-20 12:27:55.545315: I tensorflow/compiler/jit/xla_cpu_device.cc:41] Not creating XLA devices, tf_xla_enable_xla_devices not set\n",
      "2021-07-20 12:27:55.546745: I tensorflow/stream_executor/platform/default/dso_loader.cc:49] Successfully opened dynamic library libcuda.so.1\n",
      "2021-07-20 12:27:55.582314: I tensorflow/core/common_runtime/gpu/gpu_device.cc:1720] Found device 0 with properties: \n",
      "pciBusID: 0000:01:00.0 name: GeForce RTX 2060 computeCapability: 7.5\n",
      "coreClock: 1.2GHz coreCount: 30 deviceMemorySize: 5.79GiB deviceMemoryBandwidth: 312.97GiB/s\n",
      "2021-07-20 12:27:55.582350: I tensorflow/stream_executor/platform/default/dso_loader.cc:49] Successfully opened dynamic library libcudart.so.11.0\n",
      "2021-07-20 12:27:55.584338: I tensorflow/stream_executor/platform/default/dso_loader.cc:49] Successfully opened dynamic library libcublas.so.11\n",
      "2021-07-20 12:27:55.584391: I tensorflow/stream_executor/platform/default/dso_loader.cc:49] Successfully opened dynamic library libcublasLt.so.11\n",
      "2021-07-20 12:27:55.585123: I tensorflow/stream_executor/platform/default/dso_loader.cc:49] Successfully opened dynamic library libcufft.so.10\n",
      "2021-07-20 12:27:55.585338: I tensorflow/stream_executor/platform/default/dso_loader.cc:49] Successfully opened dynamic library libcurand.so.10\n",
      "2021-07-20 12:27:55.586406: I tensorflow/stream_executor/platform/default/dso_loader.cc:49] Successfully opened dynamic library libcusolver.so.10\n",
      "2021-07-20 12:27:55.586830: I tensorflow/stream_executor/platform/default/dso_loader.cc:49] Successfully opened dynamic library libcusparse.so.11\n",
      "2021-07-20 12:27:55.586935: I tensorflow/stream_executor/platform/default/dso_loader.cc:49] Successfully opened dynamic library libcudnn.so.8\n",
      "2021-07-20 12:27:55.587661: I tensorflow/core/common_runtime/gpu/gpu_device.cc:1862] Adding visible gpu devices: 0\n",
      "2021-07-20 12:27:55.588422: I tensorflow/core/platform/cpu_feature_guard.cc:142] This TensorFlow binary is optimized with oneAPI Deep Neural Network Library (oneDNN) to use the following CPU instructions in performance-critical operations:  AVX2 FMA\n",
      "To enable them in other operations, rebuild TensorFlow with the appropriate compiler flags.\n",
      "2021-07-20 12:27:55.588700: I tensorflow/compiler/jit/xla_gpu_device.cc:99] Not creating XLA devices, tf_xla_enable_xla_devices not set\n",
      "2021-07-20 12:27:55.589107: I tensorflow/core/common_runtime/gpu/gpu_device.cc:1720] Found device 0 with properties: \n",
      "pciBusID: 0000:01:00.0 name: GeForce RTX 2060 computeCapability: 7.5\n",
      "coreClock: 1.2GHz coreCount: 30 deviceMemorySize: 5.79GiB deviceMemoryBandwidth: 312.97GiB/s\n",
      "2021-07-20 12:27:55.589127: I tensorflow/stream_executor/platform/default/dso_loader.cc:49] Successfully opened dynamic library libcudart.so.11.0\n",
      "2021-07-20 12:27:55.589144: I tensorflow/stream_executor/platform/default/dso_loader.cc:49] Successfully opened dynamic library libcublas.so.11\n",
      "2021-07-20 12:27:55.589156: I tensorflow/stream_executor/platform/default/dso_loader.cc:49] Successfully opened dynamic library libcublasLt.so.11\n",
      "2021-07-20 12:27:55.589167: I tensorflow/stream_executor/platform/default/dso_loader.cc:49] Successfully opened dynamic library libcufft.so.10\n",
      "2021-07-20 12:27:55.589183: I tensorflow/stream_executor/platform/default/dso_loader.cc:49] Successfully opened dynamic library libcurand.so.10\n",
      "2021-07-20 12:27:55.589195: I tensorflow/stream_executor/platform/default/dso_loader.cc:49] Successfully opened dynamic library libcusolver.so.10\n",
      "2021-07-20 12:27:55.589205: I tensorflow/stream_executor/platform/default/dso_loader.cc:49] Successfully opened dynamic library libcusparse.so.11\n",
      "2021-07-20 12:27:55.589216: I tensorflow/stream_executor/platform/default/dso_loader.cc:49] Successfully opened dynamic library libcudnn.so.8\n",
      "2021-07-20 12:27:55.589947: I tensorflow/core/common_runtime/gpu/gpu_device.cc:1862] Adding visible gpu devices: 0\n",
      "2021-07-20 12:27:55.589979: I tensorflow/stream_executor/platform/default/dso_loader.cc:49] Successfully opened dynamic library libcudart.so.11.0\n",
      "2021-07-20 12:27:56.177341: I tensorflow/core/common_runtime/gpu/gpu_device.cc:1261] Device interconnect StreamExecutor with strength 1 edge matrix:\n",
      "2021-07-20 12:27:56.177368: I tensorflow/core/common_runtime/gpu/gpu_device.cc:1267]      0 \n",
      "2021-07-20 12:27:56.177375: I tensorflow/core/common_runtime/gpu/gpu_device.cc:1280] 0:   N \n",
      "2021-07-20 12:27:56.178613: I tensorflow/core/common_runtime/gpu/gpu_device.cc:1406] Created TensorFlow device (/job:localhost/replica:0/task:0/device:GPU:0 with 4762 MB memory) -> physical GPU (device: 0, name: GeForce RTX 2060, pci bus id: 0000:01:00.0, compute capability: 7.5)\n",
      "2021-07-20 12:27:56.255573: W tensorflow/python/util/util.cc:348] Sets are not currently considered sequences, but this may change in the future, so consider avoiding using them.\n",
      "2021-07-20 12:27:56.491131: I tensorflow/stream_executor/platform/default/dso_loader.cc:49] Successfully opened dynamic library libcublas.so.11\n",
      "2021-07-20 12:27:56.908663: I tensorflow/stream_executor/platform/default/dso_loader.cc:49] Successfully opened dynamic library libcublasLt.so.11\n",
      "2021-07-20 12:28:00.130866: W tensorflow/core/framework/cpu_allocator_impl.cc:80] Allocation of 257315840 exceeds 10% of free system memory.\n",
      "2021-07-20 12:28:00.304851: W tensorflow/core/framework/cpu_allocator_impl.cc:80] Allocation of 26214400 exceeds 10% of free system memory.\n",
      "2021-07-20 12:28:00.322612: W tensorflow/core/framework/cpu_allocator_impl.cc:80] Allocation of 26214400 exceeds 10% of free system memory.\n",
      "2021-07-20 12:28:00.344935: W tensorflow/core/framework/cpu_allocator_impl.cc:80] Allocation of 26214400 exceeds 10% of free system memory.\n",
      "2021-07-20 12:28:00.359099: W tensorflow/core/framework/cpu_allocator_impl.cc:80] Allocation of 26214400 exceeds 10% of free system memory.\n",
      "All model checkpoint layers were used when initializing TFGPT2LMHeadModel.\n",
      "\n",
      "All the layers of TFGPT2LMHeadModel were initialized from the model checkpoint at ../../model/news/paragraph/large.\n",
      "If your task is similar to the task the model of the checkpoint was trained on, you can already use TFGPT2LMHeadModel for predictions without further training.\n",
      "Setting `pad_token_id` to 0 (first `eos_token_id`) to generate sequence\n"
     ]
    },
    {
     "name": "stdout",
     "output_type": "stream",
     "text": [
      "Input:\tText: SUA amenință Rusia: Dacă nu vă distrugeți rachetele de croazieră conform Tratatului, vom încerca să le distrugem noi Rusia trebuie să oprească dezvoltarea sistemului de rachete de croazieră care încalcă Tratatul nuclear semnat la sfârşitul Războiului Rece, iar dacă nu se va întâmpla acest lucru Statele Unite vor încerca să distrugă rachetele înainte să devină funcţionale, a afirmat Kay Bailey Hutchison, ambasadoarea SUA la NATO, scrie Reuters. SUA consideră că Rusia dezvoltă un sistem de rachete sol-aer care încalcă tratatul de pe vremea Războiului Rece, Moscova negând însă că ar încălca tratatul. Kay Bailey Hutchison, ambasadoarea SUA la NATO, a declarat că Washingtonul doreşte în continuare o soluţie diplomatică, dar SUA sunt pregătite să ia în considerare un atac militar dacă Rusia va continua să dezvolte sistemul de rachete. „Dacă se va ajunge în acel punct, vom analiza posibilitatea să distrugem o rachetă rusească care ar putea lovi una dintre ţările noastre”, a declarat Hutchison. Continuation:\n",
      "\n",
      "Predict:\t Tratatul privind Forţele Nucleare Intermediare (INF) a fost semnat de către preşedintele american Ronald Reagan şi liderul sovietic Mihail Gorbaciov în anul 1987, la Washington, în perioada Războiului rece. Tratatul a interzis testarea, producerea şi deţinererea de radare balistice şi de altă natură de tipul celor care pot fi utilizate de forţele nucleare ca armă. \n",
      "\n",
      "Original:\tTratatul Forţelor Nucleare Intermediare (INF), semnat de către preşedintele american Ronald Reagan şi liderul sovietic Mihail Gorbaciov în anul 1987, vizează reducerea semnificativă a posibilei confruntări nucleare şi a contribuit la accelerarea încheierii Războiului Rece. Tratatul a interzis deţinerea şi producerea rachetelor balistice şi rachetelor nucleare de croazieră cu raze de acţiune cuprinse între 500 şi 5.500 de kilometri.\n",
      "\n",
      "Bleu score: 35.99324983327239\n",
      "\n"
     ]
    }
   ],
   "source": [
    "generate_paragraph('../../model/news/paragraph/large', '../../model/tokenizer', index_news, f'../../log/news/{index_news}-news.txt')"
   ],
   "metadata": {
    "collapsed": false,
    "pycharm": {
     "name": "#%%\n"
    }
   }
  },
  {
   "cell_type": "markdown",
   "source": [
    "## Title generation"
   ],
   "metadata": {
    "collapsed": false
   }
  },
  {
   "cell_type": "code",
   "execution_count": 9,
   "outputs": [
    {
     "name": "stderr",
     "output_type": "stream",
     "text": [
      "All model checkpoint layers were used when initializing TFGPT2LMHeadModel.\n",
      "\n",
      "All the layers of TFGPT2LMHeadModel were initialized from the model checkpoint at ../../model/news/title/medium.\n",
      "If your task is similar to the task the model of the checkpoint was trained on, you can already use TFGPT2LMHeadModel for predictions without further training.\n",
      "Setting `pad_token_id` to 0 (first `eos_token_id`) to generate sequence\n"
     ]
    },
    {
     "name": "stdout",
     "output_type": "stream",
     "text": [
      "Input:\tText: Rusia trebuie să oprească dezvoltarea sistemului de rachete de croazieră care încalcă Tratatul nuclear semnat la sfârşitul Războiului Rece, iar dacă nu se va întâmpla acest lucru Statele Unite vor încerca să distrugă rachetele înainte să devină funcţionale, a afirmat Kay Bailey Hutchison, ambasadoarea SUA la NATO, scrie Reuters. SUA consideră că Rusia dezvoltă un sistem de rachete sol-aer care încalcă tratatul de pe vremea Războiului Rece, Moscova negând însă că ar încălca tratatul. Kay Bailey Hutchison, ambasadoarea SUA la NATO, a declarat că Washingtonul doreşte în continuare o soluţie diplomatică, dar SUA sunt pregătite să ia în considerare un atac militar dacă Rusia va continua să dezvolte sistemul de rachete. „Dacă se va ajunge în acel punct, vom analiza posibilitatea să distrugem o rachetă rusească care ar putea lovi una dintre ţările noastre”, a declarat Hutchison. Tratatul Forţelor Nucleare Intermediare (INF), semnat de către preşedintele american Ronald Reagan şi liderul sovietic Mihail Gorbaciov în anul 1987, vizează reducerea semnificativă a posibilei confruntări nucleare şi a contribuit la accelerarea încheierii Războiului Rece. Tratatul a interzis deţinerea şi producerea rachetelor balistice şi rachetelor nucleare de croazieră cu raze de acţiune cuprinse între 500 şi 5.500 de kilometri. Title: \n",
      "\n",
      "Predict:\t SUA vor distruge racheta rusească de tip S-200 dacă aceasta va lovi o ţară NATO \n",
      "\n",
      "Original:\tSUA amenință Rusia: Dacă nu vă distrugeți rachetele de croazieră conform Tratatului, vom încerca să le distrugem noi\n",
      "\n",
      "Bleu score: 2.2392970339022753\n",
      "\n"
     ]
    }
   ],
   "source": [
    "generate_title('../../model/news/title/medium', '../../model/tokenizer', index_news, f'../../log/news/{index_news}-title.txt')"
   ],
   "metadata": {
    "collapsed": false,
    "pycharm": {
     "name": "#%%\n"
    }
   }
  }
 ],
 "metadata": {
  "kernelspec": {
   "display_name": "Python 3",
   "language": "python",
   "name": "python3"
  },
  "language_info": {
   "codemirror_mode": {
    "name": "ipython",
    "version": 2
   },
   "file_extension": ".py",
   "mimetype": "text/x-python",
   "name": "python",
   "nbconvert_exporter": "python",
   "pygments_lexer": "ipython2",
   "version": "2.7.6"
  }
 },
 "nbformat": 4,
 "nbformat_minor": 0
}